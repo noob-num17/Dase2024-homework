{
 "cells": [
  {
   "cell_type": "markdown",
   "metadata": {},
   "source": [
    "1.编写 Python程序,判断输入a是否为质数"
   ]
  },
  {
   "cell_type": "code",
   "execution_count": 1,
   "metadata": {},
   "outputs": [
    {
     "name": "stdout",
     "output_type": "stream",
     "text": [
      "False\n"
     ]
    }
   ],
   "source": [
    "a=int(input())\n",
    "if a<=1:\n",
    "    print(False)\n",
    "elif a==2:\n",
    "    print(True)\n",
    "else:\n",
    "    for i in range(2,int(a**0.5)+1):\n",
    "        if a%i==0:\n",
    "            print(False)\n",
    "            break\n",
    "    else:\n",
    "        print(True)"
   ]
  },
  {
   "cell_type": "markdown",
   "metadata": {},
   "source": [
    "2.用Python实现插入排序该算法，不允许直接调用插入排序函数，需要手动实现其逻辑过程。"
   ]
  },
  {
   "cell_type": "code",
   "execution_count": 2,
   "metadata": {},
   "outputs": [
    {
     "name": "stdout",
     "output_type": "stream",
     "text": [
      "[1, 2, 3, 4]\n"
     ]
    }
   ],
   "source": [
    "def insert_sort(L:list,reverse:bool=False)->list:\n",
    "    for i in range(1,len(L)):\n",
    "        key=L[i]\n",
    "        j=i-1\n",
    "        while j>=0:\n",
    "            if L[j]>key if not reverse else L[j]<=key:\n",
    "                L[j+1]=L[j]\n",
    "                j-=1\n",
    "            else:\n",
    "                break\n",
    "        L[j+1]=key\n",
    "    return L\n",
    "print(insert_sort([4,3,2,1]))"
   ]
  },
  {
   "cell_type": "markdown",
   "metadata": {},
   "source": [
    "3.用Python实现选择排序该算法，不允许直接调用选择排序函数，需要手动实现其逻辑过程。"
   ]
  },
  {
   "cell_type": "code",
   "execution_count": 3,
   "metadata": {},
   "outputs": [
    {
     "name": "stdout",
     "output_type": "stream",
     "text": [
      "[1, 2, 3, 4]\n"
     ]
    }
   ],
   "source": [
    "def select_sort(L:list,reverse:bool=False)->list:\n",
    "    for i in range(len(L)-1):\n",
    "        m=i\n",
    "        for j in range(i+1,len(L)):\n",
    "            if L[m]>L[j] if not reverse else L[m]<=L[j]:\n",
    "                m=j\n",
    "        t=L[i]\n",
    "        L[i]=L[m]\n",
    "        L[m]=t\n",
    "    return L\n",
    "print(select_sort([4,3,2,1]))"
   ]
  },
  {
   "cell_type": "markdown",
   "metadata": {},
   "source": [
    "4.用Python实现快速排序该算法，不允许直接调用快速排序函数，需要手动实现其逻辑过程。"
   ]
  },
  {
   "cell_type": "code",
   "execution_count": 5,
   "metadata": {},
   "outputs": [
    {
     "name": "stdout",
     "output_type": "stream",
     "text": [
      "[0, 1, 2, 3, 4]\n"
     ]
    }
   ],
   "source": [
    "def quick_sort(L:list,reverse:bool=False,a=0,b=-1)->list:\n",
    "    if b==-1:\n",
    "        b=len(L)\n",
    "    if b-a<=1:\n",
    "        return L\n",
    "    i=a\n",
    "    j=a\n",
    "    key=L[b-1]\n",
    "    while j<b:\n",
    "        if L[j]>key if not reverse else L[j]<=key:\n",
    "            j+=1\n",
    "        else:\n",
    "            t=L[i]\n",
    "            L[i]=L[j]\n",
    "            L[j]=t\n",
    "            i+=1\n",
    "            j+=1\n",
    "    quick_sort(L,reverse,a,i-1)\n",
    "    quick_sort(L,reverse,i,b)\n",
    "    return L\n",
    "print(quick_sort([4,3,2,1,0]))"
   ]
  },
  {
   "cell_type": "markdown",
   "metadata": {},
   "source": [
    "5.使用 Python 随机生成三组长度递增的随机数列，长度分别为100、1000、10000，对生成的随机数组使用不同的排序算法，例如选择排序和归并排序，至少三种排序方法。对这些数列的数据排序，并分析不同排序算法在不同长度数列下的运行效果，例如运行时间等指标。（可以使用排序函数）"
   ]
  },
  {
   "cell_type": "code",
   "execution_count": 6,
   "metadata": {},
   "outputs": [
    {
     "name": "stdout",
     "output_type": "stream",
     "text": [
      "insert_sort 0.001496076583862 0.064655542373657 5.735416889190674\n",
      "select_sort 0.001009702682495 0.064846992492676 6.819167852401733\n",
      "quick_sort  0.000000000000000 0.000000000000000 0.040070772171021\n",
      "sort        0.000000000000000 0.000000000000000 0.000000000000000\n"
     ]
    }
   ],
   "source": [
    "import numpy as np\n",
    "import copy\n",
    "import time\n",
    "\n",
    "L1=np.random.random(100)\n",
    "L2=np.random.random(1000)\n",
    "L3=np.random.random(10000)\n",
    "var_name=lambda var,all=locals():[i for i in all if all[i] is var][0]\n",
    "\n",
    "for sort in [insert_sort,select_sort,quick_sort,sorted]:\n",
    "    t1=time.time()\n",
    "    sort(copy.deepcopy(L1))\n",
    "    t1=time.time()-t1\n",
    "    t2=time.time()\n",
    "    sort(copy.deepcopy(L2))\n",
    "    t2=time.time()-t2\n",
    "    t3=time.time()\n",
    "    sort(copy.deepcopy(L3))\n",
    "    t3=time.time()-t3\n",
    "    print(\"%-11s %.15f %.15f %.15f\"%(var_name(sort),t1,t2,t3))"
   ]
  },
  {
   "cell_type": "markdown",
   "metadata": {},
   "source": [
    "6.使用python代码获取当前系统时间"
   ]
  },
  {
   "cell_type": "code",
   "execution_count": 7,
   "metadata": {},
   "outputs": [
    {
     "name": "stdout",
     "output_type": "stream",
     "text": [
      "2024-10-29 19:29:34\n"
     ]
    }
   ],
   "source": [
    "print(time.strftime(\"%Y-%m-%d %H:%M:%S\",time.localtime()))"
   ]
  },
  {
   "cell_type": "markdown",
   "metadata": {},
   "source": [
    "7.Homework/data文件夹下的stuGrade.csv文件中包含5位同学的学号、语文成绩、数学成绩和英语成绩，请先用记事本打开该文件，查看文件内容，然后编写Python程序，读取该文件，并计算出各科的平均成绩（保留2位小数）。"
   ]
  },
  {
   "cell_type": "code",
   "execution_count": 8,
   "metadata": {},
   "outputs": [
    {
     "name": "stdout",
     "output_type": "stream",
     "text": [
      "82.60 81.00 81.80\n"
     ]
    }
   ],
   "source": [
    "with open(\"stuGrade.csv\",\"r\") as f:\n",
    "    L=f.readlines()\n",
    "    a=0\n",
    "    b=0\n",
    "    c=0\n",
    "    for i in L[1:6]:\n",
    "        l=i.split(\",\")[1:4]\n",
    "        for j in range(3):\n",
    "            l[j]=int(l[j])\n",
    "        a+=l[0]\n",
    "        b+=l[1]\n",
    "        c+=l[2]\n",
    "print(\"%.2f %.2f %.2f\"%(a/5,b/5,c/5))"
   ]
  },
  {
   "cell_type": "markdown",
   "metadata": {},
   "source": [
    "8.请在第7题的代码继续编写Python程序，将以下内容写入my.txt文件中，一并上传到github中。\n",
    "\n",
    "    第1行：你的学号和姓名\n",
    "\n",
    "    第2行：3门课程的平均成绩（任意课程），保留2位小数，以英文逗号间隔\n",
    "\n",
    "    第3行：系统当前时间，格式例如2020-01-01 12:00:00\n",
    "\n",
    "    第4行：两秒后的系统当前时间（利用sleep()方法）"
   ]
  },
  {
   "cell_type": "code",
   "execution_count": 13,
   "metadata": {},
   "outputs": [],
   "source": [
    "with open(\"my.txt\",\"w\") as f:\n",
    "    f.write(\"10235501434,邓锦\\n\")\n",
    "    f.write(\"%.2f,%.2f,%.2f\\n\"%(a/5,b/5,c/5))\n",
    "    f.write(time.strftime(\"%Y-%m-%d %H:%M:%S\\n\",time.localtime()))\n",
    "    time.sleep(2)\n",
    "    f.write(time.strftime(\"%Y-%m-%d %H:%M:%S\\n\",time.localtime()))\n"
   ]
  }
 ],
 "metadata": {
  "kernelspec": {
   "display_name": "Python 3",
   "language": "python",
   "name": "python3"
  },
  "language_info": {
   "codemirror_mode": {
    "name": "ipython",
    "version": 3
   },
   "file_extension": ".py",
   "mimetype": "text/x-python",
   "name": "python",
   "nbconvert_exporter": "python",
   "pygments_lexer": "ipython3",
   "version": "3.12.2"
  }
 },
 "nbformat": 4,
 "nbformat_minor": 2
}
